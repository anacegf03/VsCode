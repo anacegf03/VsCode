{
 "cells": [
  {
   "cell_type": "code",
   "execution_count": 3,
   "metadata": {},
   "outputs": [],
   "source": [
    "#import\n",
    "import keras\n",
    "from keras.models import Sequential\n",
    "from keras.layers import Dense,Flatten,Conv2D,MaxPool2D,Dropout\n",
    "import matplotlib.pyplot as plt\n",
    "import seaborn as sns\n",
    "from tensorflow.keras.preprocessing.image import ImageDataGenerator\n",
    "import pathlib"
   ]
  },
  {
   "cell_type": "code",
   "execution_count": 6,
   "metadata": {},
   "outputs": [
    {
     "name": "stdout",
     "output_type": "stream",
     "text": [
      "/Users/anaceciliaguerra/Desktop/VueJs/ASL_ALEXA\n"
     ]
    }
   ],
   "source": [
    "file_path = pathlib.Path(\"/Users/anaceciliaguerra/Desktop/VueJs/ASL_ALEXA/testAlexa.ipynb\").parent.absolute()\n",
    "print(file_path)"
   ]
  },
  {
   "cell_type": "code",
   "execution_count": 7,
   "metadata": {},
   "outputs": [],
   "source": [
    "def build_backbone(model='Sequential', weights='imagenet', freeze=True, last_n_layers=2):\n",
    "    if model == 'Sequential':\n",
    "        backbone = Sequential(pretrained=weights == 'imagenet')\n",
    "        if freeze:\n",
    "            for param in backbone.parameters():\n",
    "                param.requires_grad = False\n",
    "        return backbone\n",
    "    else:\n",
    "        raise Exception(f'Model {model} not supported')"
   ]
  },
  {
   "cell_type": "code",
   "execution_count": null,
   "metadata": {},
   "outputs": [],
   "source": [
    "class Network(nn.Module):\n",
    "    def __init__(self, input_dim: int, n_classes: int) -> None:  # Manera B\n",
    "        super().__init__() \n",
    "        self.device = 'cuda' if torch.cuda.is_available() else 'cpu'\n",
    "\n",
    "        #shape 1x64x64\n",
    "    \n",
    "        self.layer1 = nn.Conv2d(1,  out_channels=16,      kernel_size=3) # 46\n",
    "        self.ReLU1 = nn.ReLU()\n",
    "        \n",
    "\n",
    "        self.layer2 = nn.Conv2d(16,         out_channels=32,     kernel_size=3) # 44\n",
    "        self.ReLU2 = nn.ReLU()\n",
    "        self.maxPool1 = nn.MaxPool2d(kernel_size=2) #21\n",
    "\n",
    "        self.layer3 = nn.Conv2d(32,        out_channels=32 ,    kernel_size=3) # 20\n",
    "        self.ReLU3 = nn.ReLU()\n",
    "        self.maxPool2 = nn.MaxPool2d(kernel_size=2) # 10\n",
    "\n",
    "        self.fc1 = nn.Linear(10 * 10 * 32, 128)\n",
    "        self.fc2 = nn.Linear(128 , n_classes)\n",
    "        self.softmax = nn.Softmax(dim=1)\n",
    "\n",
    "        self.to(self.device)\n"
   ]
  }
 ],
 "metadata": {
  "kernelspec": {
   "display_name": "Python 3",
   "language": "python",
   "name": "python3"
  },
  "language_info": {
   "codemirror_mode": {
    "name": "ipython",
    "version": 3
   },
   "file_extension": ".py",
   "mimetype": "text/x-python",
   "name": "python",
   "nbconvert_exporter": "python",
   "pygments_lexer": "ipython3",
   "version": "3.9.6"
  }
 },
 "nbformat": 4,
 "nbformat_minor": 2
}
